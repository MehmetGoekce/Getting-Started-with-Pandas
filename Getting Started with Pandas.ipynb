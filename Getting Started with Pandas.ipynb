{
 "cells": [
  {
   "cell_type": "markdown",
   "id": "ca1e46c2-743b-42c3-b35f-222743ddbbe8",
   "metadata": {},
   "source": [
    "# Getting Started with Pandas a powerful Python data analysis toolkit\n",
    "\n",
    "## 1.Introduction\n",
    "\n",
    "### Pandas\n",
    "First, Pandas is an open source Python library for data analysis. It contains data manipulation and data structures tools designed to make spreadsheet-like data for loading, manipulating, merging, cleaning, among other functions, fast and easy in Python. It is often used with analytical libraries like scikit-learn, data visualization libraries like matplotlib, and numerical computing tools like NumPy and SciPy.\n",
    "\n",
    "### 1.1 Introduction to pandas Data Structures\n",
    "\n",
    "Pandas has introduced new data types to Python: **Series and DataFrame**. This two workhorse data structures are not a universal solution for every problem, but they provide a solid basis for most applications. The DataFrame represents your entire spreadsheet or a retangular table of data, whereas the Series is is a single column of the DataFrame.\n",
    "\n",
    "### Series\n",
    "A Series is a **one-dimensional** array-like object containing a sequence of values and an associated array of data labels, called its index. It is similar to the built-in Python *list*.\n",
    "\n",
    "Here is an example of an array of data.\n"
   ]
  },
  {
   "cell_type": "code",
   "execution_count": 2,
   "id": "ce343d5c-9329-4de5-b17e-62f928c42ba1",
   "metadata": {},
   "outputs": [],
   "source": [
    "import pandas as pd"
   ]
  },
  {
   "cell_type": "code",
   "execution_count": 3,
   "id": "f72ea86f-d84a-47a5-bc5f-65a460f69eb2",
   "metadata": {},
   "outputs": [],
   "source": [
    "from pandas import Series, DataFrame"
   ]
  },
  {
   "cell_type": "code",
   "execution_count": 4,
   "id": "8fccdf53-4853-4b0e-ac5d-c6682aa0ce75",
   "metadata": {},
   "outputs": [],
   "source": [
    "obj = pd.Series([1, 3, 5, -7, 9])"
   ]
  },
  {
   "cell_type": "code",
   "execution_count": 5,
   "id": "a5518d34-f469-4ac3-bdf2-4168f70030a0",
   "metadata": {},
   "outputs": [
    {
     "data": {
      "text/plain": [
       "0    1\n",
       "1    3\n",
       "2    5\n",
       "3   -7\n",
       "4    9\n",
       "dtype: int64"
      ]
     },
     "execution_count": 5,
     "metadata": {},
     "output_type": "execute_result"
    }
   ],
   "source": [
    "obj"
   ]
  },
  {
   "cell_type": "markdown",
   "id": "f7055de2-68f5-40d9-b076-457651f1c059",
   "metadata": {},
   "source": [
    "This is a string representation of a **Series**. It shows the **index on the left and the values on the right**. We have not specified an index, so a default one is created. You can get the array representation and index object of the Series via its **values and index attributes**, respectively:"
   ]
  },
  {
   "cell_type": "code",
   "execution_count": 7,
   "id": "2f44b826-fbd7-4325-b453-71300f7fc1fa",
   "metadata": {},
   "outputs": [
    {
     "data": {
      "text/plain": [
       "array([ 1,  3,  5, -7,  9])"
      ]
     },
     "execution_count": 7,
     "metadata": {},
     "output_type": "execute_result"
    }
   ],
   "source": [
    "obj.values"
   ]
  },
  {
   "cell_type": "code",
   "execution_count": 8,
   "id": "e0bc696c-b810-40d8-be47-5e007e186e9e",
   "metadata": {},
   "outputs": [
    {
     "data": {
      "text/plain": [
       "RangeIndex(start=0, stop=5, step=1)"
      ]
     },
     "execution_count": 8,
     "metadata": {},
     "output_type": "execute_result"
    }
   ],
   "source": [
    "obj.index"
   ]
  },
  {
   "cell_type": "markdown",
   "id": "68b0206f-4373-47c1-8d43-a18cc994425f",
   "metadata": {},
   "source": [
    "You can create a Series with a **label** pointing to each data:"
   ]
  },
  {
   "cell_type": "code",
   "execution_count": 10,
   "id": "35e8809d-46a8-4824-8728-6ba9a08620cb",
   "metadata": {},
   "outputs": [],
   "source": [
    "obj2 = pd.Series([2, 4, 6, -8, 10], index=['a', 'b', 'c', 'd', 'e'])"
   ]
  },
  {
   "cell_type": "code",
   "execution_count": 11,
   "id": "193b40d2-1c00-45c2-bf66-351420b1d874",
   "metadata": {},
   "outputs": [
    {
     "data": {
      "text/plain": [
       "a     2\n",
       "b     4\n",
       "c     6\n",
       "d    -8\n",
       "e    10\n",
       "dtype: int64"
      ]
     },
     "execution_count": 11,
     "metadata": {},
     "output_type": "execute_result"
    }
   ],
   "source": [
    "obj2"
   ]
  },
  {
   "cell_type": "markdown",
   "id": "9f371b66-f458-4608-b371-eca45feaf981",
   "metadata": {},
   "source": [
    "Additionally, you can use labels in the index when selecting **a single value or a set of values**:"
   ]
  },
  {
   "cell_type": "code",
   "execution_count": 13,
   "id": "78249cf7-f830-4431-af19-18d6c01a02e1",
   "metadata": {},
   "outputs": [
    {
     "data": {
      "text/plain": [
       "2"
      ]
     },
     "execution_count": 13,
     "metadata": {},
     "output_type": "execute_result"
    }
   ],
   "source": [
    "obj2['a']"
   ]
  },
  {
   "cell_type": "code",
   "execution_count": 14,
   "id": "ed56e535-2277-4682-986a-2b1bd640ac7a",
   "metadata": {},
   "outputs": [
    {
     "data": {
      "text/plain": [
       "b    4\n",
       "c    6\n",
       "d   -8\n",
       "dtype: int64"
      ]
     },
     "execution_count": 14,
     "metadata": {},
     "output_type": "execute_result"
    }
   ],
   "source": [
    "obj2[['b', 'c', 'd']]"
   ]
  },
  {
   "cell_type": "markdown",
   "id": "143229b3-1de9-4d34-93a5-bb3cffbb5f6e",
   "metadata": {},
   "source": [
    "Also, we can use **NumPy functions or NumPy-like operations**, such as scalar multiplication, filtering with a boolean array, or applying math functions, will preserve the index-value link:"
   ]
  },
  {
   "cell_type": "code",
   "execution_count": 16,
   "id": "2c9d34c2-8bb3-4bad-9175-49ee718d3104",
   "metadata": {},
   "outputs": [
    {
     "data": {
      "text/plain": [
       "a    10\n",
       "b    20\n",
       "c    30\n",
       "d   -40\n",
       "e    50\n",
       "dtype: int64"
      ]
     },
     "execution_count": 16,
     "metadata": {},
     "output_type": "execute_result"
    }
   ],
   "source": [
    "obj2 * 5"
   ]
  },
  {
   "cell_type": "code",
   "execution_count": 17,
   "id": "c972937c-0255-4fd5-8d78-824597e7a2ed",
   "metadata": {},
   "outputs": [
    {
     "data": {
      "text/plain": [
       "a     2\n",
       "b     4\n",
       "c     6\n",
       "e    10\n",
       "dtype: int64"
      ]
     },
     "execution_count": 17,
     "metadata": {},
     "output_type": "execute_result"
    }
   ],
   "source": [
    "obj2[obj2 > 0]"
   ]
  },
  {
   "cell_type": "code",
   "execution_count": 18,
   "id": "05e6bc81-04cf-4077-abb3-c32c78fa5562",
   "metadata": {},
   "outputs": [
    {
     "data": {
      "text/plain": [
       "d   -8\n",
       "dtype: int64"
      ]
     },
     "execution_count": 18,
     "metadata": {},
     "output_type": "execute_result"
    }
   ],
   "source": [
    "obj2[obj2 < 0]"
   ]
  },
  {
   "cell_type": "code",
   "execution_count": 19,
   "id": "c0359d7b-eae5-4b30-90c8-ccd6f98eb959",
   "metadata": {},
   "outputs": [
    {
     "data": {
      "text/plain": [
       "e    10\n",
       "dtype: int64"
      ]
     },
     "execution_count": 19,
     "metadata": {},
     "output_type": "execute_result"
    }
   ],
   "source": [
    "obj2[obj2 > 8]"
   ]
  },
  {
   "cell_type": "code",
   "execution_count": 20,
   "id": "a4006433-2a8f-49ea-adbe-a00ea4084a19",
   "metadata": {},
   "outputs": [],
   "source": [
    "import numpy as np"
   ]
  },
  {
   "cell_type": "code",
   "execution_count": 21,
   "id": "05ec1d70-cc2f-4ec5-94f0-ef87522236b3",
   "metadata": {},
   "outputs": [
    {
     "data": {
      "text/plain": [
       "a        7.389056\n",
       "b       54.598150\n",
       "c      403.428793\n",
       "d        0.000335\n",
       "e    22026.465795\n",
       "dtype: float64"
      ]
     },
     "execution_count": 21,
     "metadata": {},
     "output_type": "execute_result"
    }
   ],
   "source": [
    "np.exp(obj2)"
   ]
  },
  {
   "cell_type": "markdown",
   "id": "cdb39dbe-793f-4853-a8ae-905ca3bb0ae7",
   "metadata": {},
   "source": [
    "We can use **Series** as a specialized dictionary. A **dictionary** is a structure that maps arbitrary keys to a set of arbitrary values, and a Series is a structure that maps typed keys to a set of typed values.\n",
    "\n",
    "We can make the **Series-as-dictionary** analogy even more clear by constructing a Series object directly from a **Python dictionary**:"
   ]
  },
  {
   "cell_type": "code",
   "execution_count": 23,
   "id": "48c9b78a-559b-4870-aa87-9b0bc11ab8eb",
   "metadata": {},
   "outputs": [],
   "source": [
    "population_dict = {'St.Gallen': 526513, 'Genf': 494869, 'Zürich': 1575217, 'Luzern': 424678}"
   ]
  },
  {
   "cell_type": "code",
   "execution_count": 24,
   "id": "4a7d1505-4daa-4df8-a454-19e8a8b045fb",
   "metadata": {},
   "outputs": [],
   "source": [
    "obj3 = pd.Series(population_dict)"
   ]
  },
  {
   "cell_type": "code",
   "execution_count": 25,
   "id": "bbae6fb7-2a5c-4c6a-843b-999ff4ce34b8",
   "metadata": {},
   "outputs": [
    {
     "data": {
      "text/plain": [
       "St.Gallen     526513\n",
       "Genf          494869\n",
       "Zürich       1575217\n",
       "Luzern        424678\n",
       "dtype: int64"
      ]
     },
     "execution_count": 25,
     "metadata": {},
     "output_type": "execute_result"
    }
   ],
   "source": [
    "obj3"
   ]
  },
  {
   "cell_type": "markdown",
   "id": "91b61958-a106-41fc-b7af-da0f8ddbf776",
   "metadata": {},
   "source": [
    "By default, a **Series** will be created where the index is drawn from the sorted keys. From here, typical dictionary-style item access can be performed:"
   ]
  },
  {
   "cell_type": "code",
   "execution_count": 27,
   "id": "a170e8fd-dc87-4e22-817d-8e43a054fd4f",
   "metadata": {},
   "outputs": [
    {
     "data": {
      "text/plain": [
       "526513"
      ]
     },
     "execution_count": 27,
     "metadata": {},
     "output_type": "execute_result"
    }
   ],
   "source": [
    "obj3['St.Gallen']"
   ]
  },
  {
   "cell_type": "markdown",
   "id": "b3204ff7-298c-41ca-903b-616230732255",
   "metadata": {},
   "source": [
    "Unlike a dictionary, though, the Series also supports array-style operations such as **slicing**:"
   ]
  },
  {
   "cell_type": "code",
   "execution_count": 29,
   "id": "a60d18fb-ff65-4f37-9a67-1295ed54347e",
   "metadata": {},
   "outputs": [
    {
     "data": {
      "text/plain": [
       "St.Gallen     526513\n",
       "Genf          494869\n",
       "Zürich       1575217\n",
       "dtype: int64"
      ]
     },
     "execution_count": 29,
     "metadata": {},
     "output_type": "execute_result"
    }
   ],
   "source": [
    "obj3['St.Gallen':'Zürich']"
   ]
  },
  {
   "cell_type": "markdown",
   "id": "c437cd28-6864-4414-99b6-1e98351715f5",
   "metadata": {},
   "source": [
    "When you are only passing a dict, the index in the resulting Series will have the dict’s keys in **sorted order**. You can **override** this by passing the dict keys in the order you want them to appear in the resulting Series:"
   ]
  },
  {
   "cell_type": "code",
   "execution_count": 31,
   "id": "fe946c86-4988-4835-a665-1db3bb9ebc5b",
   "metadata": {},
   "outputs": [],
   "source": [
    "states = ['Basel', 'St.Gallen', 'Genf', 'Zürich', 'Luzern']"
   ]
  },
  {
   "cell_type": "code",
   "execution_count": 32,
   "id": "6710d863-4025-4a5f-b66c-2da3c0087815",
   "metadata": {},
   "outputs": [],
   "source": [
    "obj4 = pd.Series(population_dict, index=states)"
   ]
  },
  {
   "cell_type": "code",
   "execution_count": 33,
   "id": "dda766dc-1734-423f-b8c6-7fabbcae2c52",
   "metadata": {},
   "outputs": [
    {
     "data": {
      "text/plain": [
       "Basel              NaN\n",
       "St.Gallen     526513.0\n",
       "Genf          494869.0\n",
       "Zürich       1575217.0\n",
       "Luzern        424678.0\n",
       "dtype: float64"
      ]
     },
     "execution_count": 33,
     "metadata": {},
     "output_type": "execute_result"
    }
   ],
   "source": [
    "obj4"
   ]
  },
  {
   "cell_type": "markdown",
   "id": "6e7cb205-3cf7-4837-982a-59c4159290da",
   "metadata": {},
   "source": [
    "Since there is no value for ‘Basel’, it appears as **NaN (Not a Number)**.\n",
    "\n",
    "Now you can detect the missing data with **isnull** and **notnull** functions."
   ]
  },
  {
   "cell_type": "code",
   "execution_count": 35,
   "id": "4427cc8b-a4b9-4474-86ca-3cca83e546e4",
   "metadata": {},
   "outputs": [
    {
     "data": {
      "text/plain": [
       "Basel         True\n",
       "St.Gallen    False\n",
       "Genf         False\n",
       "Zürich       False\n",
       "Luzern       False\n",
       "dtype: bool"
      ]
     },
     "execution_count": 35,
     "metadata": {},
     "output_type": "execute_result"
    }
   ],
   "source": [
    "pd.isna(obj4)"
   ]
  },
  {
   "cell_type": "code",
   "execution_count": 36,
   "id": "11406d39-a37a-4a42-bbc7-27bc188ac884",
   "metadata": {},
   "outputs": [
    {
     "data": {
      "text/plain": [
       "Basel        False\n",
       "St.Gallen     True\n",
       "Genf          True\n",
       "Zürich        True\n",
       "Luzern        True\n",
       "dtype: bool"
      ]
     },
     "execution_count": 36,
     "metadata": {},
     "output_type": "execute_result"
    }
   ],
   "source": [
    "pd.notna(obj4)"
   ]
  },
  {
   "cell_type": "markdown",
   "id": "10de919f-962b-4c43-a77e-17e8d45e1666",
   "metadata": {},
   "source": [
    "Series also has these as instance methods:"
   ]
  },
  {
   "cell_type": "code",
   "execution_count": 38,
   "id": "46cc518e-e6d7-48b6-84b8-079e07856c71",
   "metadata": {},
   "outputs": [
    {
     "data": {
      "text/plain": [
       "Basel         True\n",
       "St.Gallen    False\n",
       "Genf         False\n",
       "Zürich       False\n",
       "Luzern       False\n",
       "dtype: bool"
      ]
     },
     "execution_count": 38,
     "metadata": {},
     "output_type": "execute_result"
    }
   ],
   "source": [
    "obj4.isna()"
   ]
  },
  {
   "cell_type": "markdown",
   "id": "7069809a-b611-453d-8bed-2301b478a333",
   "metadata": {},
   "source": [
    "For **arithmetic operations**, the series functions are automatically aligned according to the index name. In addition, both the series object itself and its index have a name attribute:"
   ]
  },
  {
   "cell_type": "code",
   "execution_count": 40,
   "id": "510df394-f3ca-436b-aa54-80b565012bae",
   "metadata": {},
   "outputs": [
    {
     "data": {
      "text/plain": [
       "St.Gallen     526513\n",
       "Genf          494869\n",
       "Zürich       1575217\n",
       "Luzern        424678\n",
       "dtype: int64"
      ]
     },
     "execution_count": 40,
     "metadata": {},
     "output_type": "execute_result"
    }
   ],
   "source": [
    "obj3"
   ]
  },
  {
   "cell_type": "code",
   "execution_count": 41,
   "id": "160ee5ac-cd1c-428e-8aff-3baf1c3b8fe3",
   "metadata": {},
   "outputs": [
    {
     "data": {
      "text/plain": [
       "Basel              NaN\n",
       "St.Gallen     526513.0\n",
       "Genf          494869.0\n",
       "Zürich       1575217.0\n",
       "Luzern        424678.0\n",
       "dtype: float64"
      ]
     },
     "execution_count": 41,
     "metadata": {},
     "output_type": "execute_result"
    }
   ],
   "source": [
    "obj4"
   ]
  },
  {
   "cell_type": "code",
   "execution_count": 42,
   "id": "61b399e9-48ed-45bc-b3a4-6bbcff41669d",
   "metadata": {},
   "outputs": [
    {
     "data": {
      "text/plain": [
       "Basel              NaN\n",
       "Genf          989738.0\n",
       "Luzern        849356.0\n",
       "St.Gallen    1053026.0\n",
       "Zürich       3150434.0\n",
       "dtype: float64"
      ]
     },
     "execution_count": 42,
     "metadata": {},
     "output_type": "execute_result"
    }
   ],
   "source": [
    "obj3 + obj4"
   ]
  },
  {
   "cell_type": "code",
   "execution_count": 43,
   "id": "95d072ad-0c7c-4d3f-91a7-1b8f04ebcfa5",
   "metadata": {},
   "outputs": [],
   "source": [
    "obj4.name = 'population'"
   ]
  },
  {
   "cell_type": "code",
   "execution_count": 44,
   "id": "5274ccf8-f800-46f5-a48d-0130b0748e2a",
   "metadata": {},
   "outputs": [],
   "source": [
    "obj4.index.name = 'state'"
   ]
  },
  {
   "cell_type": "code",
   "execution_count": 45,
   "id": "f82b9308-7b27-4181-b959-debba6dec83c",
   "metadata": {},
   "outputs": [
    {
     "data": {
      "text/plain": [
       "state\n",
       "Basel              NaN\n",
       "St.Gallen     526513.0\n",
       "Genf          494869.0\n",
       "Zürich       1575217.0\n",
       "Luzern        424678.0\n",
       "Name: population, dtype: float64"
      ]
     },
     "execution_count": 45,
     "metadata": {},
     "output_type": "execute_result"
    }
   ],
   "source": [
    "obj4"
   ]
  },
  {
   "cell_type": "markdown",
   "id": "f5b36b29-b27e-4608-b69e-b9abe061bb3d",
   "metadata": {},
   "source": [
    "### DataFrame\n",
    "\n",
    "Foremost, let’s clarify the term **DataFrame**.\n",
    "\n",
    "In **Pandas**, it is a **two-demonsional** size-mutable, potentially heterogeneous tabular data structure with labeled axes (rows and columns) Arithmetic operations align on both row and column labels. Can be thought of as a dict-like container for Series objects. Under the hood, the data is stored as one or more two-dimensional blocks rather than a list, dict, or some other collection of one-dimensional arrays.\n",
    "[pandas.DataFrame](https://pandas.pydata.org/docs/reference/api/pandas.DataFrame.html?source=post_page-----490baa61a07b--------------------------------#) \n"
   ]
  },
  {
   "cell_type": "markdown",
   "id": "77ad7557-4444-4540-872c-6b2ac38638a5",
   "metadata": {},
   "source": [
    "Let’s have a look at this.\n",
    "\n",
    "Let’s first **construct** a new Series listing the area of each of the four states discussed before. Now that we have this along with the population Series from above, we can use a dictionary to construct **a single two-dimensional object** containing this information:"
   ]
  },
  {
   "cell_type": "code",
   "execution_count": 48,
   "id": "f5d98d8d-7a8d-40cb-a9a3-b791b4f1b369",
   "metadata": {},
   "outputs": [],
   "source": [
    "areacode_dict = {'St.Gallen': 71, 'Genf': 22, 'Zürich': 44, 'Luzern': 41}"
   ]
  },
  {
   "cell_type": "code",
   "execution_count": 49,
   "id": "ee87bbef-2557-4936-a635-d423f3c42883",
   "metadata": {},
   "outputs": [],
   "source": [
    "areacode = pd.Series(areacode_dict)"
   ]
  },
  {
   "cell_type": "code",
   "execution_count": 50,
   "id": "49108540-7422-4d0e-911a-7c029d76f682",
   "metadata": {},
   "outputs": [
    {
     "data": {
      "text/plain": [
       "St.Gallen    71\n",
       "Genf         22\n",
       "Zürich       44\n",
       "Luzern       41\n",
       "dtype: int64"
      ]
     },
     "execution_count": 50,
     "metadata": {},
     "output_type": "execute_result"
    }
   ],
   "source": [
    "areacode"
   ]
  },
  {
   "cell_type": "code",
   "execution_count": 51,
   "id": "8e153585-c2dc-4e14-9f5c-e978a06bebd7",
   "metadata": {},
   "outputs": [],
   "source": [
    "population = obj3"
   ]
  },
  {
   "cell_type": "code",
   "execution_count": 52,
   "id": "9c24c5c9-5d9c-49dc-9d27-6f14a551bf4e",
   "metadata": {},
   "outputs": [],
   "source": [
    "states = pd.DataFrame({'population': population, 'areacode': areacode})"
   ]
  },
  {
   "cell_type": "code",
   "execution_count": 53,
   "id": "2b1f70bb-acef-4abd-b778-e38fe7fbcdd4",
   "metadata": {},
   "outputs": [
    {
     "data": {
      "text/html": [
       "<div>\n",
       "<style scoped>\n",
       "    .dataframe tbody tr th:only-of-type {\n",
       "        vertical-align: middle;\n",
       "    }\n",
       "\n",
       "    .dataframe tbody tr th {\n",
       "        vertical-align: top;\n",
       "    }\n",
       "\n",
       "    .dataframe thead th {\n",
       "        text-align: right;\n",
       "    }\n",
       "</style>\n",
       "<table border=\"1\" class=\"dataframe\">\n",
       "  <thead>\n",
       "    <tr style=\"text-align: right;\">\n",
       "      <th></th>\n",
       "      <th>population</th>\n",
       "      <th>areacode</th>\n",
       "    </tr>\n",
       "  </thead>\n",
       "  <tbody>\n",
       "    <tr>\n",
       "      <th>St.Gallen</th>\n",
       "      <td>526513</td>\n",
       "      <td>71</td>\n",
       "    </tr>\n",
       "    <tr>\n",
       "      <th>Genf</th>\n",
       "      <td>494869</td>\n",
       "      <td>22</td>\n",
       "    </tr>\n",
       "    <tr>\n",
       "      <th>Zürich</th>\n",
       "      <td>1575217</td>\n",
       "      <td>44</td>\n",
       "    </tr>\n",
       "    <tr>\n",
       "      <th>Luzern</th>\n",
       "      <td>424678</td>\n",
       "      <td>41</td>\n",
       "    </tr>\n",
       "  </tbody>\n",
       "</table>\n",
       "</div>"
      ],
      "text/plain": [
       "           population  areacode\n",
       "St.Gallen      526513        71\n",
       "Genf           494869        22\n",
       "Zürich        1575217        44\n",
       "Luzern         424678        41"
      ]
     },
     "execution_count": 53,
     "metadata": {},
     "output_type": "execute_result"
    }
   ],
   "source": [
    "states"
   ]
  },
  {
   "cell_type": "markdown",
   "id": "7c52e675-5d9b-4b41-ad4e-2474a8322a46",
   "metadata": {},
   "source": [
    "Now we can access the index labels via the **DataFrame index attribute**. The DataFrame also has a column attribute, which is an index object that contains the column labels."
   ]
  },
  {
   "cell_type": "code",
   "execution_count": 55,
   "id": "0dadecca-bdeb-4d13-99cf-6051227317f1",
   "metadata": {},
   "outputs": [
    {
     "data": {
      "text/plain": [
       "Index(['St.Gallen', 'Genf', 'Zürich', 'Luzern'], dtype='object')"
      ]
     },
     "execution_count": 55,
     "metadata": {},
     "output_type": "execute_result"
    }
   ],
   "source": [
    "states.index"
   ]
  },
  {
   "cell_type": "code",
   "execution_count": 56,
   "id": "4a2288c7-9d79-46c1-989b-b8f96d056a4e",
   "metadata": {},
   "outputs": [
    {
     "data": {
      "text/plain": [
       "Index(['population', 'areacode'], dtype='object')"
      ]
     },
     "execution_count": 56,
     "metadata": {},
     "output_type": "execute_result"
    }
   ],
   "source": [
    "states.columns"
   ]
  },
  {
   "cell_type": "markdown",
   "id": "25dd4494-2763-45a9-9bb8-541500aecc30",
   "metadata": {},
   "source": [
    "Therefore the **DataFrame** can be thought of as a **generalization of a two-dimensional NumPy array**,\n",
    "where both the rows and columns have a generalized index for accessing the data.\n",
    "We can also think of a **DataFrame** as a specialization of a **dictionary**. The DataFrame **maps** a column name to a Series column data, where a dictionary maps a **key to a value**. Now we get the Series object:"
   ]
  },
  {
   "cell_type": "code",
   "execution_count": 58,
   "id": "c9b58bec-3d50-429a-83da-fc5fd0c3536e",
   "metadata": {},
   "outputs": [
    {
     "data": {
      "text/plain": [
       "St.Gallen    71\n",
       "Genf         22\n",
       "Zürich       44\n",
       "Luzern       41\n",
       "Name: areacode, dtype: int64"
      ]
     },
     "execution_count": 58,
     "metadata": {},
     "output_type": "execute_result"
    }
   ],
   "source": [
    "states['areacode']"
   ]
  },
  {
   "cell_type": "markdown",
   "id": "137a887e-367f-49ac-90f0-1e560856b4f2",
   "metadata": {},
   "source": [
    "**Note**: \n",
    "For a **DataFrame**, **data[‘col0’] will return the first column**. In a **two-dimensional NumPy array**, **data[0]** will return the **first column**. While a DataFrame is physically two-dimensional, you can use it to represent **higher dimensional** data in a tabular format using hierarchical indexing (also known as **multi-indexing**) to incorporate multiple index levels within a single index. Hierarchical indexing is more common practices, but Pandas provide also **Panel** and **Panel4d** objects that handle three-dimensional and four-dimensional data.\n",
    "\n",
    "We can construct **DataFrame Objects** in a variety of ways.\n",
    "\n",
    "* From a list of dicts\n",
    "* From a single Series object\n",
    "* From a dictionary of Series objects\n",
    "* From a two-dimensional NumPy array\n",
    "* From a NumPy structured array"
   ]
  },
  {
   "cell_type": "code",
   "execution_count": 60,
   "id": "04bb3571-89c6-4040-afc8-151d7741f168",
   "metadata": {},
   "outputs": [],
   "source": [
    "data = [{'x': i, 'y': 4 * i}\n",
    "        for i in range(4)]"
   ]
  },
  {
   "cell_type": "code",
   "execution_count": 61,
   "id": "a63b6870-c9b6-49f2-9d67-ff7488ab44e9",
   "metadata": {},
   "outputs": [
    {
     "data": {
      "text/html": [
       "<div>\n",
       "<style scoped>\n",
       "    .dataframe tbody tr th:only-of-type {\n",
       "        vertical-align: middle;\n",
       "    }\n",
       "\n",
       "    .dataframe tbody tr th {\n",
       "        vertical-align: top;\n",
       "    }\n",
       "\n",
       "    .dataframe thead th {\n",
       "        text-align: right;\n",
       "    }\n",
       "</style>\n",
       "<table border=\"1\" class=\"dataframe\">\n",
       "  <thead>\n",
       "    <tr style=\"text-align: right;\">\n",
       "      <th></th>\n",
       "      <th>x</th>\n",
       "      <th>y</th>\n",
       "    </tr>\n",
       "  </thead>\n",
       "  <tbody>\n",
       "    <tr>\n",
       "      <th>0</th>\n",
       "      <td>0</td>\n",
       "      <td>0</td>\n",
       "    </tr>\n",
       "    <tr>\n",
       "      <th>1</th>\n",
       "      <td>1</td>\n",
       "      <td>4</td>\n",
       "    </tr>\n",
       "    <tr>\n",
       "      <th>2</th>\n",
       "      <td>2</td>\n",
       "      <td>8</td>\n",
       "    </tr>\n",
       "    <tr>\n",
       "      <th>3</th>\n",
       "      <td>3</td>\n",
       "      <td>12</td>\n",
       "    </tr>\n",
       "  </tbody>\n",
       "</table>\n",
       "</div>"
      ],
      "text/plain": [
       "   x   y\n",
       "0  0   0\n",
       "1  1   4\n",
       "2  2   8\n",
       "3  3  12"
      ]
     },
     "execution_count": 61,
     "metadata": {},
     "output_type": "execute_result"
    }
   ],
   "source": [
    "pd.DataFrame(data)"
   ]
  },
  {
   "cell_type": "code",
   "execution_count": 62,
   "id": "ff197d5f-fba1-4931-b277-4a1bde16b4d3",
   "metadata": {},
   "outputs": [
    {
     "data": {
      "text/html": [
       "<div>\n",
       "<style scoped>\n",
       "    .dataframe tbody tr th:only-of-type {\n",
       "        vertical-align: middle;\n",
       "    }\n",
       "\n",
       "    .dataframe tbody tr th {\n",
       "        vertical-align: top;\n",
       "    }\n",
       "\n",
       "    .dataframe thead th {\n",
       "        text-align: right;\n",
       "    }\n",
       "</style>\n",
       "<table border=\"1\" class=\"dataframe\">\n",
       "  <thead>\n",
       "    <tr style=\"text-align: right;\">\n",
       "      <th></th>\n",
       "      <th>population</th>\n",
       "    </tr>\n",
       "  </thead>\n",
       "  <tbody>\n",
       "    <tr>\n",
       "      <th>St.Gallen</th>\n",
       "      <td>526513</td>\n",
       "    </tr>\n",
       "    <tr>\n",
       "      <th>Genf</th>\n",
       "      <td>494869</td>\n",
       "    </tr>\n",
       "    <tr>\n",
       "      <th>Zürich</th>\n",
       "      <td>1575217</td>\n",
       "    </tr>\n",
       "    <tr>\n",
       "      <th>Luzern</th>\n",
       "      <td>424678</td>\n",
       "    </tr>\n",
       "  </tbody>\n",
       "</table>\n",
       "</div>"
      ],
      "text/plain": [
       "           population\n",
       "St.Gallen      526513\n",
       "Genf           494869\n",
       "Zürich        1575217\n",
       "Luzern         424678"
      ]
     },
     "execution_count": 62,
     "metadata": {},
     "output_type": "execute_result"
    }
   ],
   "source": [
    "pd.DataFrame(population, columns=['population'])"
   ]
  },
  {
   "cell_type": "code",
   "execution_count": 63,
   "id": "aa668e21-b406-4ca7-b230-41cd270a32b7",
   "metadata": {},
   "outputs": [
    {
     "data": {
      "text/html": [
       "<div>\n",
       "<style scoped>\n",
       "    .dataframe tbody tr th:only-of-type {\n",
       "        vertical-align: middle;\n",
       "    }\n",
       "\n",
       "    .dataframe tbody tr th {\n",
       "        vertical-align: top;\n",
       "    }\n",
       "\n",
       "    .dataframe thead th {\n",
       "        text-align: right;\n",
       "    }\n",
       "</style>\n",
       "<table border=\"1\" class=\"dataframe\">\n",
       "  <thead>\n",
       "    <tr style=\"text-align: right;\">\n",
       "      <th></th>\n",
       "      <th>population</th>\n",
       "      <th>areacode</th>\n",
       "    </tr>\n",
       "  </thead>\n",
       "  <tbody>\n",
       "    <tr>\n",
       "      <th>St.Gallen</th>\n",
       "      <td>526513</td>\n",
       "      <td>71</td>\n",
       "    </tr>\n",
       "    <tr>\n",
       "      <th>Genf</th>\n",
       "      <td>494869</td>\n",
       "      <td>22</td>\n",
       "    </tr>\n",
       "    <tr>\n",
       "      <th>Zürich</th>\n",
       "      <td>1575217</td>\n",
       "      <td>44</td>\n",
       "    </tr>\n",
       "    <tr>\n",
       "      <th>Luzern</th>\n",
       "      <td>424678</td>\n",
       "      <td>41</td>\n",
       "    </tr>\n",
       "  </tbody>\n",
       "</table>\n",
       "</div>"
      ],
      "text/plain": [
       "           population  areacode\n",
       "St.Gallen      526513        71\n",
       "Genf           494869        22\n",
       "Zürich        1575217        44\n",
       "Luzern         424678        41"
      ]
     },
     "execution_count": 63,
     "metadata": {},
     "output_type": "execute_result"
    }
   ],
   "source": [
    "pd.DataFrame({'population': population, 'areacode': areacode})"
   ]
  },
  {
   "cell_type": "code",
   "execution_count": 64,
   "id": "62133683-7294-48aa-a30d-6562dadd2ae1",
   "metadata": {},
   "outputs": [
    {
     "data": {
      "text/html": [
       "<div>\n",
       "<style scoped>\n",
       "    .dataframe tbody tr th:only-of-type {\n",
       "        vertical-align: middle;\n",
       "    }\n",
       "\n",
       "    .dataframe tbody tr th {\n",
       "        vertical-align: top;\n",
       "    }\n",
       "\n",
       "    .dataframe thead th {\n",
       "        text-align: right;\n",
       "    }\n",
       "</style>\n",
       "<table border=\"1\" class=\"dataframe\">\n",
       "  <thead>\n",
       "    <tr style=\"text-align: right;\">\n",
       "      <th></th>\n",
       "      <th>a</th>\n",
       "      <th>b</th>\n",
       "    </tr>\n",
       "  </thead>\n",
       "  <tbody>\n",
       "    <tr>\n",
       "      <th>x</th>\n",
       "      <td>0.018674</td>\n",
       "      <td>0.004473</td>\n",
       "    </tr>\n",
       "    <tr>\n",
       "      <th>y</th>\n",
       "      <td>0.720538</td>\n",
       "      <td>0.152199</td>\n",
       "    </tr>\n",
       "    <tr>\n",
       "      <th>z</th>\n",
       "      <td>0.564845</td>\n",
       "      <td>0.520253</td>\n",
       "    </tr>\n",
       "  </tbody>\n",
       "</table>\n",
       "</div>"
      ],
      "text/plain": [
       "          a         b\n",
       "x  0.018674  0.004473\n",
       "y  0.720538  0.152199\n",
       "z  0.564845  0.520253"
      ]
     },
     "execution_count": 64,
     "metadata": {},
     "output_type": "execute_result"
    }
   ],
   "source": [
    "pd.DataFrame(np.random.rand(3, 2),\n",
    "             columns = ['a', 'b'],\n",
    "             index = ['x', 'y', 'z'])"
   ]
  },
  {
   "cell_type": "code",
   "execution_count": 65,
   "id": "c4bdd788-0a21-432c-a1db-e677b4b64d57",
   "metadata": {},
   "outputs": [],
   "source": [
    "A = np.zeros(3, dtype=[('A', 'i8'), ('B', 'f8')])"
   ]
  },
  {
   "cell_type": "code",
   "execution_count": 66,
   "id": "afc99de1-503d-4d6b-b898-45dc1b450a11",
   "metadata": {},
   "outputs": [
    {
     "data": {
      "text/plain": [
       "array([(0, 0.), (0, 0.), (0, 0.)], dtype=[('A', '<i8'), ('B', '<f8')])"
      ]
     },
     "execution_count": 66,
     "metadata": {},
     "output_type": "execute_result"
    }
   ],
   "source": [
    "A"
   ]
  },
  {
   "cell_type": "code",
   "execution_count": 67,
   "id": "711dc5c8-8ff2-4e8d-8ce0-09c73ec41267",
   "metadata": {},
   "outputs": [
    {
     "data": {
      "text/html": [
       "<div>\n",
       "<style scoped>\n",
       "    .dataframe tbody tr th:only-of-type {\n",
       "        vertical-align: middle;\n",
       "    }\n",
       "\n",
       "    .dataframe tbody tr th {\n",
       "        vertical-align: top;\n",
       "    }\n",
       "\n",
       "    .dataframe thead th {\n",
       "        text-align: right;\n",
       "    }\n",
       "</style>\n",
       "<table border=\"1\" class=\"dataframe\">\n",
       "  <thead>\n",
       "    <tr style=\"text-align: right;\">\n",
       "      <th></th>\n",
       "      <th>A</th>\n",
       "      <th>B</th>\n",
       "    </tr>\n",
       "  </thead>\n",
       "  <tbody>\n",
       "    <tr>\n",
       "      <th>0</th>\n",
       "      <td>0</td>\n",
       "      <td>0.0</td>\n",
       "    </tr>\n",
       "    <tr>\n",
       "      <th>1</th>\n",
       "      <td>0</td>\n",
       "      <td>0.0</td>\n",
       "    </tr>\n",
       "    <tr>\n",
       "      <th>2</th>\n",
       "      <td>0</td>\n",
       "      <td>0.0</td>\n",
       "    </tr>\n",
       "  </tbody>\n",
       "</table>\n",
       "</div>"
      ],
      "text/plain": [
       "   A    B\n",
       "0  0  0.0\n",
       "1  0  0.0\n",
       "2  0  0.0"
      ]
     },
     "execution_count": 67,
     "metadata": {},
     "output_type": "execute_result"
    }
   ],
   "source": [
    "pd.DataFrame(A)"
   ]
  },
  {
   "cell_type": "markdown",
   "id": "0b845a99-cfd4-48fc-b04a-d66252d14eb6",
   "metadata": {},
   "source": [
    "This was a short intro to **Data Analysis with Pandas**. Stay tuned!"
   ]
  },
  {
   "cell_type": "code",
   "execution_count": null,
   "id": "9d5efd23-702e-409b-9b9e-ebae4436d7b8",
   "metadata": {},
   "outputs": [],
   "source": []
  }
 ],
 "metadata": {
  "kernelspec": {
   "display_name": "Python [conda env:base] *",
   "language": "python",
   "name": "conda-base-py"
  },
  "language_info": {
   "codemirror_mode": {
    "name": "ipython",
    "version": 3
   },
   "file_extension": ".py",
   "mimetype": "text/x-python",
   "name": "python",
   "nbconvert_exporter": "python",
   "pygments_lexer": "ipython3",
   "version": "3.12.7"
  }
 },
 "nbformat": 4,
 "nbformat_minor": 5
}
